{
 "cells": [
  {
   "cell_type": "markdown",
   "metadata": {},
   "source": [
    "# Example of DOPER - EV Fleet"
   ]
  },
  {
   "cell_type": "markdown",
   "metadata": {},
   "source": [
    "### This examples demonstrates the DOPER framework for a three EV fleet with about 150 kW building base load and 100 kW Photovoltaic (PV) generation."
   ]
  },
  {
   "cell_type": "code",
   "execution_count": 1,
   "metadata": {},
   "outputs": [],
   "source": [
    "import os\n",
    "import sys\n",
    "import pandas as pd\n",
    "import matplotlib.pyplot as plt\n",
    "from pprint import pprint\n",
    "from pandas.plotting import register_matplotlib_converters\n",
    "register_matplotlib_converters()\n",
    "%matplotlib inline\n",
    "\n",
    "# from IPython.display import HTML\n",
    "# HTML('''<script>\n",
    "# code_show=true; \n",
    "# function code_toggle() {\n",
    "#  if (code_show){\n",
    "#  $('div.input').hide();\n",
    "#  } else {\n",
    "#  $('div.input').show();\n",
    "#  }\n",
    "#  code_show = !code_show\n",
    "# } \n",
    "# $( document ).ready(code_toggle);\n",
    "# </script>\n",
    "# <form action=\"javascript:code_toggle()\">\n",
    "# <input type=\"submit\" value=\"Click here to toggle on/off the raw code.\"></form>\n",
    "# ''')"
   ]
  },
  {
   "cell_type": "markdown",
   "metadata": {},
   "source": [
    "### Import DOPER modules"
   ]
  },
  {
   "cell_type": "markdown",
   "metadata": {},
   "source": [
    "DOPER consists of several modules which are imported here."
   ]
  },
  {
   "cell_type": "code",
   "execution_count": 2,
   "metadata": {},
   "outputs": [],
   "source": [
    "from doper import DOPER, get_solver, get_root, standard_report\n",
    "from doper.models.basemodel import base_model\n",
    "from doper.models.battery import add_battery\n",
    "from doper.example import parameter_add_evfleet, ts_inputs, test_default_parameter, ts_inputs_ev_schedule\n",
    "from doper.plotting import plot_dynamic"
   ]
  },
  {
   "cell_type": "markdown",
   "metadata": {},
   "source": [
    "### Setup Optimization Model"
   ]
  },
  {
   "cell_type": "markdown",
   "metadata": {},
   "source": [
    "DOPER passes the inputs as first arguments and parameter as second argument to the optimization model (control_model). In this example two models are loaded:\n",
    "* the \"base_model\" with energy balance of on-site generation, e.g. Photovoltaic, and demand, e.g. building base laod\n",
    "* the \"add_battery\" model which adds individual batteries or electric vehicles, as defined by the input parameters\n",
    "\n",
    "An objective function is defined as the sum of energy and demand cost, eventual revenue from exporting energy, and from frequency regulation. The weighting between the objectives is again defined within the parameters of the model."
   ]
  },
  {
   "cell_type": "code",
   "execution_count": 3,
   "metadata": {},
   "outputs": [],
   "source": [
    "from pyomo.environ import Objective, minimize\n",
    "\n",
    "def control_model(inputs, parameter):\n",
    "    model = base_model(inputs, parameter)\n",
    "    model = add_battery(model, inputs, parameter)\n",
    "    \n",
    "    def objective_function(model):\n",
    "        return model.sum_energy_cost * parameter['objective']['weight_energy'] \\\n",
    "               + model.sum_demand_cost * parameter['objective']['weight_demand'] \\\n",
    "               + model.sum_export_revenue * parameter['objective']['weight_export']\n",
    "              \n",
    "    model.objective = Objective(rule=objective_function, sense=minimize, doc='objective function')\n",
    "    return model"
   ]
  },
  {
   "cell_type": "markdown",
   "metadata": {},
   "source": [
    "### Load Example Parameter"
   ]
  },
  {
   "cell_type": "markdown",
   "metadata": {},
   "source": [
    "The \"parameter\" dictinoary object includes all parameters of the optimization model. The high-level categories are:\n",
    "* Battery: parameter of all batteries in the model. This includes number of batteries, initial and final State of Charge, power, capacity, etc.\n",
    "* Controller: selection of controller options such as model timestep, optimization horizon, etc.\n",
    "* Objective: weighting of the multiple objectives\n",
    "* Site: specifications of the site such as timezone, import and export power limits, customer type, etc.\n",
    "* Tariff: electricity tariff specified as time-of-use with any number of periods"
   ]
  },
  {
   "cell_type": "code",
   "execution_count": 4,
   "metadata": {},
   "outputs": [
    {
     "name": "stdout",
     "output_type": "stream",
     "text": [
      "parameter 'system' object:\n",
      "{'battery': True,\n",
      " 'external_gen': False,\n",
      " 'genset': False,\n",
      " 'hvac_control': False,\n",
      " 'load_control': False,\n",
      " 'pv': True,\n",
      " 'reg_bidding': False,\n",
      " 'reg_response': False}\n",
      "\n",
      "parameter 'batteries' object:\n",
      "[{'capacity': 24,\n",
      "  'efficiency_charging': 0.96,\n",
      "  'efficiency_discharging': 0.96,\n",
      "  'power_charge': 15,\n",
      "  'power_discharge': 15,\n",
      "  'self_discharging': 0.003,\n",
      "  'soc_initial': 0.5,\n",
      "  'soc_max': 1,\n",
      "  'soc_min': 0},\n",
      " {'capacity': 24,\n",
      "  'efficiency_charging': 0.96,\n",
      "  'efficiency_discharging': 0.96,\n",
      "  'power_charge': 15,\n",
      "  'power_discharge': 15,\n",
      "  'self_discharging': 0.003,\n",
      "  'soc_initial': 0.25,\n",
      "  'soc_max': 1,\n",
      "  'soc_min': 0},\n",
      " {'capacity': 54,\n",
      "  'efficiency_charging': 0.96,\n",
      "  'efficiency_discharging': 0.96,\n",
      "  'power_charge': 30,\n",
      "  'power_discharge': 30,\n",
      "  'self_discharging': 0.003,\n",
      "  'soc_initial': 0.5,\n",
      "  'soc_max': 1,\n",
      "  'soc_min': 0}]\n",
      "\n"
     ]
    }
   ],
   "source": [
    "parameter = test_default_parameter()\n",
    "parameter = parameter_add_evfleet(parameter)\n",
    "\n",
    "print(\"parameter 'system' object:\")\n",
    "pprint(parameter['system'])\n",
    "print('')\n",
    "\n",
    "print(\"parameter 'batteries' object:\")\n",
    "pprint(parameter['batteries'])\n",
    "print('')"
   ]
  },
  {
   "cell_type": "markdown",
   "metadata": {},
   "source": [
    "### Load Example Data"
   ]
  },
  {
   "cell_type": "markdown",
   "metadata": {},
   "source": [
    "The input data in this example is chosen to represent a medium-sized office building with rooftop photovoltaic system and three electric vehicles."
   ]
  },
  {
   "cell_type": "code",
   "execution_count": 5,
   "metadata": {},
   "outputs": [],
   "source": [
    "data = ts_inputs(parameter, load='B90', scale_load=150, scale_pv=100)\n",
    "data = ts_inputs_ev_schedule(parameter, data)"
   ]
  },
  {
   "cell_type": "markdown",
   "metadata": {},
   "source": [
    "### Conduct Optimization"
   ]
  },
  {
   "cell_type": "markdown",
   "metadata": {},
   "source": [
    "In order to conduct the optimization, the DOPER object is initialized with the model, parameter, and the pyomo_to_pandas converter function. In the next step, the model is evaluated with the \"do_optimization\" class function. It takes the current inputs as input and returns a list of results.\n",
    "\n",
    "Note that DOPER is built for application as Model Predictive Control (MPC) where the optimization model is periodically, e.g. every five minutes, updated with the most recent inputs, and reevaluated. However, in this example, do_optimization is only executed once."
   ]
  },
  {
   "cell_type": "code",
   "execution_count": 6,
   "metadata": {},
   "outputs": [
    {
     "name": "stdout",
     "output_type": "stream",
     "text": [
      "/usr/local/lib/python3.8/dist-packages/doper/solvers/Linux64/cbc\n"
     ]
    },
    {
     "ename": "KeyError",
     "evalue": "'name'",
     "output_type": "error",
     "traceback": [
      "\u001b[0;31m---------------------------------------------------------------------------\u001b[0m",
      "\u001b[0;31mKeyError\u001b[0m                                  Traceback (most recent call last)",
      "Input \u001b[0;32mIn [6]\u001b[0m, in \u001b[0;36m<cell line: 10>\u001b[0;34m()\u001b[0m\n\u001b[1;32m      5\u001b[0m smartDER \u001b[38;5;241m=\u001b[39m DOPER(model\u001b[38;5;241m=\u001b[39mcontrol_model,\n\u001b[1;32m      6\u001b[0m                  parameter\u001b[38;5;241m=\u001b[39mparameter,\n\u001b[1;32m      7\u001b[0m                  solver_path\u001b[38;5;241m=\u001b[39msolver_path)\n\u001b[1;32m      9\u001b[0m \u001b[38;5;66;03m# Conduct optimization\u001b[39;00m\n\u001b[0;32m---> 10\u001b[0m res \u001b[38;5;241m=\u001b[39m \u001b[43msmartDER\u001b[49m\u001b[38;5;241;43m.\u001b[39;49m\u001b[43mdo_optimization\u001b[49m\u001b[43m(\u001b[49m\u001b[43mdata\u001b[49m\u001b[43m)\u001b[49m\n\u001b[1;32m     12\u001b[0m \u001b[38;5;66;03m# Get results\u001b[39;00m\n\u001b[1;32m     13\u001b[0m duration, objective, df, model, result, termination, parameter \u001b[38;5;241m=\u001b[39m res\n",
      "File \u001b[0;32m/usr/local/lib/python3.8/dist-packages/doper/wrapper.py:236\u001b[0m, in \u001b[0;36mDOPER.do_optimization\u001b[0;34m(self, data, parameter, tee, options, print_error)\u001b[0m\n\u001b[1;32m    233\u001b[0m     \u001b[38;5;28mself\u001b[39m\u001b[38;5;241m.\u001b[39mparameter \u001b[38;5;241m=\u001b[39m copy\u001b[38;5;241m.\u001b[39mdeepcopy(parameter)        \n\u001b[1;32m    234\u001b[0m \u001b[38;5;66;03m#if not self.model_loaded:\u001b[39;00m\n\u001b[1;32m    235\u001b[0m \u001b[38;5;66;03m# Instantiate the model, if not already\u001b[39;00m\n\u001b[0;32m--> 236\u001b[0m \u001b[38;5;28;43mself\u001b[39;49m\u001b[38;5;241;43m.\u001b[39;49m\u001b[43minitialize_model\u001b[49m\u001b[43m(\u001b[49m\u001b[43mdata\u001b[49m\u001b[43m)\u001b[49m\n\u001b[1;32m    237\u001b[0m \u001b[38;5;28;01mwith\u001b[39;00m SolverFactory(\u001b[38;5;28mself\u001b[39m\u001b[38;5;241m.\u001b[39msolver_name, executable\u001b[38;5;241m=\u001b[39m\u001b[38;5;28mself\u001b[39m\u001b[38;5;241m.\u001b[39msolver_path) \u001b[38;5;28;01mas\u001b[39;00m solver:\n\u001b[1;32m    238\u001b[0m     t_start \u001b[38;5;241m=\u001b[39m time()\n",
      "File \u001b[0;32m/usr/local/lib/python3.8/dist-packages/doper/wrapper.py:98\u001b[0m, in \u001b[0;36mDOPER.initialize_model\u001b[0;34m(self, data)\u001b[0m\n\u001b[1;32m     90\u001b[0m \u001b[38;5;28;01mdef\u001b[39;00m \u001b[38;5;21minitialize_model\u001b[39m(\u001b[38;5;28mself\u001b[39m, data):\n\u001b[1;32m     91\u001b[0m     \u001b[38;5;124;03m'''\u001b[39;00m\n\u001b[1;32m     92\u001b[0m \u001b[38;5;124;03m        Loads the model with its parameters.\u001b[39;00m\n\u001b[1;32m     93\u001b[0m \u001b[38;5;124;03m        \u001b[39;00m\n\u001b[0;32m   (...)\u001b[0m\n\u001b[1;32m     96\u001b[0m \u001b[38;5;124;03m            data (pandas.DataFrame): The input dataframe for the optimization.\u001b[39;00m\n\u001b[1;32m     97\u001b[0m \u001b[38;5;124;03m    '''\u001b[39;00m\n\u001b[0;32m---> 98\u001b[0m     \u001b[38;5;28mself\u001b[39m\u001b[38;5;241m.\u001b[39mmodel \u001b[38;5;241m=\u001b[39m \u001b[38;5;28;43mself\u001b[39;49m\u001b[38;5;241;43m.\u001b[39;49m\u001b[43m_model\u001b[49m\u001b[43m(\u001b[49m\u001b[43mdata\u001b[49m\u001b[43m,\u001b[49m\u001b[43m \u001b[49m\u001b[38;5;28;43mself\u001b[39;49m\u001b[38;5;241;43m.\u001b[39;49m\u001b[43mparameter\u001b[49m\u001b[43m)\u001b[49m\n\u001b[1;32m     99\u001b[0m     \u001b[38;5;28mself\u001b[39m\u001b[38;5;241m.\u001b[39mmodel_loaded \u001b[38;5;241m=\u001b[39m \u001b[38;5;28;01mTrue\u001b[39;00m\n",
      "Input \u001b[0;32mIn [3]\u001b[0m, in \u001b[0;36mcontrol_model\u001b[0;34m(inputs, parameter)\u001b[0m\n\u001b[1;32m      3\u001b[0m \u001b[38;5;28;01mdef\u001b[39;00m \u001b[38;5;21mcontrol_model\u001b[39m(inputs, parameter):\n\u001b[1;32m      4\u001b[0m     model \u001b[38;5;241m=\u001b[39m base_model(inputs, parameter)\n\u001b[0;32m----> 5\u001b[0m     model \u001b[38;5;241m=\u001b[39m \u001b[43madd_battery\u001b[49m\u001b[43m(\u001b[49m\u001b[43mmodel\u001b[49m\u001b[43m,\u001b[49m\u001b[43m \u001b[49m\u001b[43minputs\u001b[49m\u001b[43m,\u001b[49m\u001b[43m \u001b[49m\u001b[43mparameter\u001b[49m\u001b[43m)\u001b[49m\n\u001b[1;32m      7\u001b[0m     \u001b[38;5;28;01mdef\u001b[39;00m \u001b[38;5;21mobjective_function\u001b[39m(model):\n\u001b[1;32m      8\u001b[0m         \u001b[38;5;28;01mreturn\u001b[39;00m model\u001b[38;5;241m.\u001b[39msum_energy_cost \u001b[38;5;241m*\u001b[39m parameter[\u001b[38;5;124m'\u001b[39m\u001b[38;5;124mobjective\u001b[39m\u001b[38;5;124m'\u001b[39m][\u001b[38;5;124m'\u001b[39m\u001b[38;5;124mweight_energy\u001b[39m\u001b[38;5;124m'\u001b[39m] \\\n\u001b[1;32m      9\u001b[0m                \u001b[38;5;241m+\u001b[39m model\u001b[38;5;241m.\u001b[39msum_demand_cost \u001b[38;5;241m*\u001b[39m parameter[\u001b[38;5;124m'\u001b[39m\u001b[38;5;124mobjective\u001b[39m\u001b[38;5;124m'\u001b[39m][\u001b[38;5;124m'\u001b[39m\u001b[38;5;124mweight_demand\u001b[39m\u001b[38;5;124m'\u001b[39m] \\\n\u001b[1;32m     10\u001b[0m                \u001b[38;5;241m+\u001b[39m model\u001b[38;5;241m.\u001b[39msum_export_revenue \u001b[38;5;241m*\u001b[39m parameter[\u001b[38;5;124m'\u001b[39m\u001b[38;5;124mobjective\u001b[39m\u001b[38;5;124m'\u001b[39m][\u001b[38;5;124m'\u001b[39m\u001b[38;5;124mweight_export\u001b[39m\u001b[38;5;124m'\u001b[39m]\n",
      "File \u001b[0;32m/usr/local/lib/python3.8/dist-packages/doper/models/battery.py:71\u001b[0m, in \u001b[0;36madd_battery\u001b[0;34m(model, inputs, parameter)\u001b[0m\n\u001b[1;32m     68\u001b[0m         parameter[\u001b[38;5;124m'\u001b[39m\u001b[38;5;124mbatteries\u001b[39m\u001b[38;5;124m'\u001b[39m][b][\u001b[38;5;124m'\u001b[39m\u001b[38;5;124msoc_final\u001b[39m\u001b[38;5;124m'\u001b[39m] \u001b[38;5;241m=\u001b[39m \u001b[38;5;28;01mFalse\u001b[39;00m\n\u001b[1;32m     70\u001b[0m \u001b[38;5;66;03m# extract list of battery asset names for define pyomo set\u001b[39;00m\n\u001b[0;32m---> 71\u001b[0m batteryListInput \u001b[38;5;241m=\u001b[39m [battery[\u001b[38;5;124m'\u001b[39m\u001b[38;5;124mname\u001b[39m\u001b[38;5;124m'\u001b[39m] \u001b[38;5;28;01mfor\u001b[39;00m battery \u001b[38;5;129;01min\u001b[39;00m parameter[\u001b[38;5;124m'\u001b[39m\u001b[38;5;124mbatteries\u001b[39m\u001b[38;5;124m'\u001b[39m]]\n\u001b[1;32m     73\u001b[0m  \u001b[38;5;66;03m# Sets\u001b[39;00m\n\u001b[1;32m     74\u001b[0m model\u001b[38;5;241m.\u001b[39mbatteries \u001b[38;5;241m=\u001b[39m Set(initialize\u001b[38;5;241m=\u001b[39mbatteryListInput, doc\u001b[38;5;241m=\u001b[39m\u001b[38;5;124m'\u001b[39m\u001b[38;5;124mbatteries in the system\u001b[39m\u001b[38;5;124m'\u001b[39m)\n",
      "File \u001b[0;32m/usr/local/lib/python3.8/dist-packages/doper/models/battery.py:71\u001b[0m, in \u001b[0;36m<listcomp>\u001b[0;34m(.0)\u001b[0m\n\u001b[1;32m     68\u001b[0m         parameter[\u001b[38;5;124m'\u001b[39m\u001b[38;5;124mbatteries\u001b[39m\u001b[38;5;124m'\u001b[39m][b][\u001b[38;5;124m'\u001b[39m\u001b[38;5;124msoc_final\u001b[39m\u001b[38;5;124m'\u001b[39m] \u001b[38;5;241m=\u001b[39m \u001b[38;5;28;01mFalse\u001b[39;00m\n\u001b[1;32m     70\u001b[0m \u001b[38;5;66;03m# extract list of battery asset names for define pyomo set\u001b[39;00m\n\u001b[0;32m---> 71\u001b[0m batteryListInput \u001b[38;5;241m=\u001b[39m [\u001b[43mbattery\u001b[49m\u001b[43m[\u001b[49m\u001b[38;5;124;43m'\u001b[39;49m\u001b[38;5;124;43mname\u001b[39;49m\u001b[38;5;124;43m'\u001b[39;49m\u001b[43m]\u001b[49m \u001b[38;5;28;01mfor\u001b[39;00m battery \u001b[38;5;129;01min\u001b[39;00m parameter[\u001b[38;5;124m'\u001b[39m\u001b[38;5;124mbatteries\u001b[39m\u001b[38;5;124m'\u001b[39m]]\n\u001b[1;32m     73\u001b[0m  \u001b[38;5;66;03m# Sets\u001b[39;00m\n\u001b[1;32m     74\u001b[0m model\u001b[38;5;241m.\u001b[39mbatteries \u001b[38;5;241m=\u001b[39m Set(initialize\u001b[38;5;241m=\u001b[39mbatteryListInput, doc\u001b[38;5;241m=\u001b[39m\u001b[38;5;124m'\u001b[39m\u001b[38;5;124mbatteries in the system\u001b[39m\u001b[38;5;124m'\u001b[39m)\n",
      "\u001b[0;31mKeyError\u001b[0m: 'name'"
     ]
    }
   ],
   "source": [
    "# Define the path to the solver executable\n",
    "solver_path = get_solver('cbc', solver_dir=os.path.join(get_root(), 'solvers'))\n",
    "print(solver_path)\n",
    "# Initialize DOPER\n",
    "smartDER = DOPER(model=control_model,\n",
    "                 parameter=parameter,\n",
    "                 solver_path=solver_path)\n",
    "\n",
    "# Conduct optimization\n",
    "res = smartDER.do_optimization(data)\n",
    "\n",
    "# Get results\n",
    "duration, objective, df, model, result, termination, parameter = res\n",
    "print(standard_report(res))"
   ]
  },
  {
   "cell_type": "markdown",
   "metadata": {},
   "source": [
    "### Result for Site"
   ]
  },
  {
   "cell_type": "code",
   "execution_count": null,
   "metadata": {},
   "outputs": [],
   "source": [
    "plotData = plot_dynamic(df, parameter, plotFile = None, plot_reg=False)"
   ]
  }
 ],
 "metadata": {
  "kernelspec": {
   "display_name": "Python 3 (ipykernel)",
   "language": "python",
   "name": "python3"
  },
  "language_info": {
   "codemirror_mode": {
    "name": "ipython",
    "version": 3
   },
   "file_extension": ".py",
   "mimetype": "text/x-python",
   "name": "python",
   "nbconvert_exporter": "python",
   "pygments_lexer": "ipython3",
   "version": "3.8.13"
  }
 },
 "nbformat": 4,
 "nbformat_minor": 2
}
